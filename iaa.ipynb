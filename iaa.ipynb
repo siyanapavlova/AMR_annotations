{
 "cells": [
  {
   "cell_type": "code",
   "execution_count": 73,
   "metadata": {},
   "outputs": [],
   "source": [
    "from sklearn.metrics import cohen_kappa_score\n",
    "import numpy as np\n",
    "import math"
   ]
  },
  {
   "cell_type": "markdown",
   "metadata": {},
   "source": [
    "Load annotations"
   ]
  },
  {
   "cell_type": "code",
   "execution_count": 33,
   "metadata": {},
   "outputs": [],
   "source": [
    "with open('./grs/lexicons/subcat/common_predicates_anno1.lp') as f:\n",
    "    anno1_lines = f.readlines()\n",
    "with open('./grs/lexicons/subcat/common_predicates_anno2.lp') as f:\n",
    "    anno2_lines = f.readlines()"
   ]
  },
  {
   "cell_type": "code",
   "execution_count": 87,
   "metadata": {},
   "outputs": [],
   "source": [
    "senses = [line.split('\\t')[1] for line in anno1_lines]\n",
    "anno1_data = [line.strip().split('\\t')[2:] for line in anno1_lines]\n",
    "anno2_data = [line.strip().split('\\t')[2:] for line in anno2_lines]"
   ]
  },
  {
   "cell_type": "markdown",
   "metadata": {},
   "source": [
    "# By predicate"
   ]
  },
  {
   "cell_type": "code",
   "execution_count": 61,
   "metadata": {},
   "outputs": [],
   "source": [
    "for ind_pred, pred in enumerate(anno1_data):\n",
    "    for ind_arg, arg in reversed(list(enumerate(pred))):\n",
    "        if arg.strip() == '-' and anno2_data[ind_pred][ind_arg].strip() == '-':\n",
    "            anno1_data[ind_pred].pop(ind_arg)\n",
    "            anno2_data[ind_pred].pop(ind_arg)\n",
    "\n",
    "anno1 = []\n",
    "for pred in anno1_data:\n",
    "    anno1.append([[item] for item in pred])\n",
    "\n",
    "anno2 = []\n",
    "for pred in anno2_data:\n",
    "    anno2.append([[item] for item in pred])"
   ]
  },
  {
   "cell_type": "code",
   "execution_count": 78,
   "metadata": {},
   "outputs": [],
   "source": [
    "scores = []\n",
    "for ind, sense in enumerate(senses):\n",
    "    score = cohen_kappa_score(anno1[ind], anno2[ind])\n",
    "    if math.isnan(score):\n",
    "        score = 1.0\n",
    "    scores.append((sense, score))"
   ]
  },
  {
   "cell_type": "code",
   "execution_count": 84,
   "metadata": {},
   "outputs": [
    {
     "data": {
      "text/plain": [
       "0.6400276492630754"
      ]
     },
     "execution_count": 84,
     "metadata": {},
     "output_type": "execute_result"
    }
   ],
   "source": [
    "sum(i[1] for i in scores)/len(scores)\n",
    "# print(scores[0])"
   ]
  },
  {
   "cell_type": "markdown",
   "metadata": {},
   "source": [
    "# By argument"
   ]
  },
  {
   "cell_type": "code",
   "execution_count": 98,
   "metadata": {},
   "outputs": [],
   "source": [
    "# for i in range(len(anno1_data)):\n",
    "l = [[anno1_data[i][0]] for i in range(len(anno1_data)) if not (anno1_data[i][0] == '-' and\n",
    "                                                                anno2_data[i][0]=='-')]\n",
    "\n",
    "anno1_by_arg = []\n",
    "anno2_by_arg = []\n",
    "for j in range(10):\n",
    "    anno1_by_arg.append([[anno1_data[i][j]] for i in range(len(anno1_data)) if not (anno1_data[i][j] == '-' and\n",
    "                                                                anno2_data[i][j]=='-')])\n",
    "    anno2_by_arg.append([[anno2_data[i][j]] for i in range(len(anno1_data)) if not (anno1_data[i][j] == '-' and\n",
    "                                                                anno2_data[i][j]=='-')])\n",
    "    "
   ]
  },
  {
   "cell_type": "code",
   "execution_count": 102,
   "metadata": {},
   "outputs": [
    {
     "name": "stderr",
     "output_type": "stream",
     "text": [
      "/usr/local/lib/python3.5/dist-packages/sklearn/metrics/classification.py:373: RuntimeWarning: invalid value encountered in true_divide\n",
      "  k = np.sum(w_mat * confusion) / np.sum(w_mat * expected)\n"
     ]
    }
   ],
   "source": [
    "scores_by_arg = []\n",
    "for i in range(10):\n",
    "    score = cohen_kappa_score(anno1_by_arg[i], anno2_by_arg[i])\n",
    "#     if math.isnan(score):\n",
    "#         score = 1.0\n",
    "    scores_by_arg.append(('arg'+str(i), score, len(anno1_by_arg[i])))"
   ]
  },
  {
   "cell_type": "code",
   "execution_count": 103,
   "metadata": {},
   "outputs": [
    {
     "data": {
      "text/plain": [
       "[('arg0', 0.43348558378532676, 441),\n",
       " ('arg1', 0.5555828436102096, 478),\n",
       " ('arg2', 0.6006629263026654, 268),\n",
       " ('arg3', 0.7065649867374005, 59),\n",
       " ('arg4', 0.7446808510638298, 24),\n",
       " ('arg5', 1.0, 3),\n",
       " ('arg6', nan, 0),\n",
       " ('arg7', nan, 0),\n",
       " ('arg8', nan, 0),\n",
       " ('arg9', nan, 0)]"
      ]
     },
     "execution_count": 103,
     "metadata": {},
     "output_type": "execute_result"
    }
   ],
   "source": [
    "scores_by_arg"
   ]
  },
  {
   "cell_type": "code",
   "execution_count": 105,
   "metadata": {},
   "outputs": [
    {
     "data": {
      "text/plain": [
       "0.6734961985832387"
      ]
     },
     "execution_count": 105,
     "metadata": {},
     "output_type": "execute_result"
    }
   ],
   "source": [
    "sum(i[1] for i in scores_by_arg if not math.isnan(i[1]))/6"
   ]
  },
  {
   "cell_type": "code",
   "execution_count": null,
   "metadata": {},
   "outputs": [],
   "source": []
  }
 ],
 "metadata": {
  "kernelspec": {
   "display_name": "Python 3",
   "language": "python",
   "name": "python3"
  },
  "language_info": {
   "codemirror_mode": {
    "name": "ipython",
    "version": 3
   },
   "file_extension": ".py",
   "mimetype": "text/x-python",
   "name": "python",
   "nbconvert_exporter": "python",
   "pygments_lexer": "ipython3",
   "version": "3.5.2"
  }
 },
 "nbformat": 4,
 "nbformat_minor": 2
}
