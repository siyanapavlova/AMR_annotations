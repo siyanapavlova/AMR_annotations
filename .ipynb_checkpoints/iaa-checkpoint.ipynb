{
 "cells": [
  {
   "cell_type": "code",
   "execution_count": 1,
   "metadata": {},
   "outputs": [],
   "source": [
    "from sklearn.metrics import cohen_kappa_score"
   ]
  },
  {
   "cell_type": "code",
   "execution_count": 3,
   "metadata": {},
   "outputs": [],
   "source": [
    "with open('./grs/lexicons/subcat/common_predicates_anno1.lp') as f:\n",
    "    anno1_lines = f.readlines()\n",
    "with open('./grs/lexicons/subcat/common_predicates_anno2.lp') as f:\n",
    "    anno2_lines = f.readlines()"
   ]
  },
  {
   "cell_type": "code",
   "execution_count": 23,
   "metadata": {},
   "outputs": [
    {
     "name": "stdout",
     "output_type": "stream",
     "text": [
      "10\n",
      "-1 experiencer\n",
      "0 stimulus\n",
      "1 -\n",
      "2 -\n",
      "3 -\n",
      "4 -\n",
      "5 -\n",
      "10\n",
      "-1 agent\n",
      "0 theme\n",
      "1 -\n",
      "2 -\n",
      "3 -\n",
      "4 -\n",
      "5 -\n"
     ]
    },
    {
     "data": {
      "text/plain": [
       "[['experiencer', 'stimulus', '-', '-', '-', '-'],\n",
       " ['agent', 'theme', '-', '-', '-', '-']]"
      ]
     },
     "execution_count": 23,
     "metadata": {},
     "output_type": "execute_result"
    }
   ],
   "source": [
    "# for ind, line in enumerate(anno1_lines):\n",
    "#     anno1_data\n",
    "    \n",
    "anno1_data = [line.strip().split('\\t')[2:] for line in anno1_lines]\n",
    "anno2_data = [line.strip().split('\\t')[2:] for line in anno2_lines]\n",
    "\n",
    "anno1_data_final = []\n",
    "anno2_data_final = []\n",
    "\n",
    "for ind_pred, pred in enumerate(anno1_data[:2]):\n",
    "#     print(ind_pred, pred)\n",
    "    print(len(pred))\n",
    "    for ind_arg, arg in enumerate(pred):\n",
    "        print(ind_arg, arg)\n",
    "        anno1_data_final.append([])\n",
    "        anno2_data_final.append([])\n",
    "        if arg.strip() == '-' and anno2_data[ind_pred][ind_arg].strip() == '-':\n",
    "            \n",
    "#             anno1_data_final[ind_pred].append(arg)\n",
    "#             anno2_data_final[ind_pred].append(anno2_data[ind_pred][ind_arg])\n",
    "            \n",
    "            anno1_data[ind_pred].pop(ind_arg)\n",
    "            anno2_data[ind_pred].pop(ind_arg)\n",
    "#         else:\n",
    "#             print(arg)\n",
    "anno1_data[:2]"
   ]
  },
  {
   "cell_type": "code",
   "execution_count": null,
   "metadata": {},
   "outputs": [],
   "source": []
  }
 ],
 "metadata": {
  "kernelspec": {
   "display_name": "Python 3",
   "language": "python",
   "name": "python3"
  },
  "language_info": {
   "codemirror_mode": {
    "name": "ipython",
    "version": 3
   },
   "file_extension": ".py",
   "mimetype": "text/x-python",
   "name": "python",
   "nbconvert_exporter": "python",
   "pygments_lexer": "ipython3",
   "version": "3.5.2"
  }
 },
 "nbformat": 4,
 "nbformat_minor": 2
}
