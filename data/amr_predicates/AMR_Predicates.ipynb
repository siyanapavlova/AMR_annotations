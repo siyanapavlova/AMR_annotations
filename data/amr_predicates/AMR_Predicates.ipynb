{
 "cells": [
  {
   "cell_type": "markdown",
   "metadata": {},
   "source": [
    "# AMR predicates \n",
    "- obtained from official AMR website. https://amr.isi.edu/doc/propbank-amr-frames-arg-descr.txt \n",
    "- corresponds to https://propbank.github.io/ and https://catalog.ldc.upenn.edu/LDC2004T14 \n"
   ]
  },
  {
   "cell_type": "markdown",
   "metadata": {},
   "source": [
    "### 1. Extract and organise the information "
   ]
  },
  {
   "cell_type": "code",
   "execution_count": 95,
   "metadata": {},
   "outputs": [],
   "source": [
    "class AMRPredicate:\n",
    "    '''basic class of object for capturing predicates from Propbank that are used in AMR.'''\n",
    "    def __init__(self): \n",
    "        self.name = None\n",
    "        self.lemma = None\n",
    "        self.sense = None\n",
    "        self.classifications = {\"noncore\":[]}\n",
    "        self.ARG0 = None\n",
    "        self.ARG1 = None \n",
    "        self.ARG2 = None\n",
    "        self.ARG3 = None\n",
    "        self.ARG4 = None\n",
    "        self.ARG5 = None\n",
    "        self.ARG6 = None\n",
    "        \n",
    "    def __str__(self):\n",
    "        return self.name"
   ]
  },
  {
   "cell_type": "code",
   "execution_count": 96,
   "metadata": {},
   "outputs": [],
   "source": [
    "filename = \"propbank-amr-frames-arg-descr.txt\"\n",
    "\n",
    "data_file = open(filename,\"r\",encoding=\"utf-8\")\n",
    "# get all the lines of the AMR predicates and their ARGs\n",
    "all_lines = data_file.readlines()\n",
    "# close the file \n",
    "data_file.close()"
   ]
  },
  {
   "cell_type": "code",
   "execution_count": 97,
   "metadata": {},
   "outputs": [],
   "source": [
    "AMRPredicateDict = {}\n",
    "\n",
    "for amr in all_lines: \n",
    "    \n",
    "    #instantiate a new AMRPredicate\n",
    "    __AMRPredicate = AMRPredicate()\n",
    "    # split the AMR predicate line into predicate, ARGs\n",
    "    __list = amr.rstrip(\"\\n\").split(\"  \")\n",
    "    \n",
    "    # store the predicate name, e.g. abandon-01 \n",
    "    __AMRPredicate.name = __list[0]\n",
    "    # split the name, in order to get the sense and \"lemma\"\n",
    "    __namelist = __AMRPredicate.name.split(\"-\")\n",
    "    # the sense number is the last element of the list\n",
    "    __AMRPredicate.sense =  __namelist.pop(-1)\n",
    "    # the \"lemma\" could be in more than 1 element after the split (i.e. hyphenated predicates)\n",
    "    __AMRPredicate.lemma =  \"-\".join(__namelist)\n",
    "\n",
    "    # loop through the list to assign the ARGs, if available to the respective attributes of __AMRPredicate\n",
    "    for index in range(len(__list)):\n",
    "        __list1 = __list[index].split(\":\")\n",
    "        if __list1[0] == \"ARG0\":\n",
    "            __AMRPredicate.ARG0 = __list1[1].lstrip(\" \")\n",
    "        elif __list1[0] == \"ARG1\":\n",
    "            __AMRPredicate.ARG1 = __list1[1].lstrip(\" \")\n",
    "        elif __list1[0] == \"ARG2\":\n",
    "            __AMRPredicate.ARG2 = __list1[1].lstrip(\" \")\n",
    "        elif __list1[0] == \"ARG3\":\n",
    "            __AMRPredicate.ARG3 = __list1[1].lstrip(\" \")\n",
    "        elif __list1[0] == \"ARG4\":\n",
    "            __AMRPredicate.ARG4 = __list1[1].lstrip(\" \")\n",
    "        elif __list1[0] == \"ARG5\":\n",
    "            __AMRPredicate.ARG5 = __list1[1].lstrip(\" \")\n",
    "        elif __list1[0] == \"ARG6\":\n",
    "            __AMRPredicate.ARG6 = __list1[1].lstrip(\" \")\n",
    "    \n",
    "    # add the __AMRPredicate as a value of the predicate name to the list\n",
    "    AMRPredicateDict[__AMRPredicate.name] = __AMRPredicate"
   ]
  },
  {
   "cell_type": "code",
   "execution_count": 98,
   "metadata": {},
   "outputs": [
    {
     "data": {
      "text/plain": [
       "8733"
      ]
     },
     "execution_count": 98,
     "metadata": {},
     "output_type": "execute_result"
    }
   ],
   "source": [
    "len(AMRPredicateDict.keys())"
   ]
  },
  {
   "cell_type": "markdown",
   "metadata": {},
   "source": [
    "### 2. Find all AMR predicates that end with -ly"
   ]
  },
  {
   "cell_type": "code",
   "execution_count": 99,
   "metadata": {},
   "outputs": [],
   "source": [
    "ly_preds = {}\n",
    "for pred in AMRPredicateDict: \n",
    "    if re.findall(r'ly$', AMRPredicates[pred].lemma):\n",
    "        ly_preds[pred] = AMRPredicates[pred]"
   ]
  },
  {
   "cell_type": "code",
   "execution_count": 100,
   "metadata": {},
   "outputs": [
    {
     "data": {
      "text/plain": [
       "{'ally-01': <__main__.AMRPredicate at 0x1102ca438>,\n",
       " 'apply-01': <__main__.AMRPredicate at 0x110299b70>,\n",
       " 'apply-02': <__main__.AMRPredicate at 0x1102999b0>,\n",
       " 'apply-03': <__main__.AMRPredicate at 0x110299828>,\n",
       " 'apply-04': <__main__.AMRPredicate at 0x110299898>,\n",
       " 'bully-01': <__main__.AMRPredicate at 0x10ff2cd68>,\n",
       " 'chilly-04': <__main__.AMRPredicate at 0x1102a5668>,\n",
       " 'comply-01': <__main__.AMRPredicate at 0x1103b38d0>,\n",
       " 'cuddly-02': <__main__.AMRPredicate at 0x110034a90>,\n",
       " 'dally-01': <__main__.AMRPredicate at 0x11002b358>,\n",
       " 'fly-01': <__main__.AMRPredicate at 0x110227358>,\n",
       " 'fly-02': <__main__.AMRPredicate at 0x110227748>,\n",
       " 'fly-03': <__main__.AMRPredicate at 0x110227630>,\n",
       " 'fly-06': <__main__.AMRPredicate at 0x1102279b0>,\n",
       " 'friendly-01': <__main__.AMRPredicate at 0x110218978>,\n",
       " 'imply-01': <__main__.AMRPredicate at 0x1101e9710>,\n",
       " 'likely-01': <__main__.AMRPredicate at 0x10faa9eb8>,\n",
       " 'multiply-01': <__main__.AMRPredicate at 0x10fa5d2b0>,\n",
       " 'oily-03': <__main__.AMRPredicate at 0x10fa44080>,\n",
       " 'orderly-04': <__main__.AMRPredicate at 0x10fa39ef0>,\n",
       " 'ply-01': <__main__.AMRPredicate at 0x10f9f1588>,\n",
       " 'ply-02': <__main__.AMRPredicate at 0x10f9f1438>,\n",
       " 'ply-03': <__main__.AMRPredicate at 0x10f9f15f8>,\n",
       " 'practically-04': <__main__.AMRPredicate at 0x10f9e1710>,\n",
       " 'rally-01': <__main__.AMRPredicate at 0x10f9b65f8>,\n",
       " 'rally-02': <__main__.AMRPredicate at 0x10f9b62e8>,\n",
       " 'reapply-01': <__main__.AMRPredicate at 0x10f9a19b0>,\n",
       " 'rely-01': <__main__.AMRPredicate at 0x10f983d30>,\n",
       " 'reply-01': <__main__.AMRPredicate at 0x10f9756a0>,\n",
       " 'resupply-01': <__main__.AMRPredicate at 0x10f95e6a0>,\n",
       " 'resupply-02': <__main__.AMRPredicate at 0x10f95e5f8>,\n",
       " 'sully-01': <__main__.AMRPredicate at 0x10f877cf8>,\n",
       " 'supply-01': <__main__.AMRPredicate at 0x10f874dd8>,\n",
       " 'tally-01': <__main__.AMRPredicate at 0x10f85d710>,\n",
       " 'timely-03': <__main__.AMRPredicate at 0x10f830b70>}"
      ]
     },
     "execution_count": 100,
     "metadata": {},
     "output_type": "execute_result"
    }
   ],
   "source": [
    "ly_preds"
   ]
  },
  {
   "cell_type": "markdown",
   "metadata": {},
   "source": [
    "### 3. Find predicates that can act in non-core roles"
   ]
  },
  {
   "cell_type": "code",
   "execution_count": 101,
   "metadata": {},
   "outputs": [],
   "source": [
    "amr_noncores = ['source', 'destination', 'path', 'beneficiary', 'accompanier', 'topic', 'duration', 'instrument',\n",
    "'medium', 'manner', 'purpose', 'cause', 'concession', 'condition', 'part', 'subevent', 'consist-of', 'example',\n",
    "'direction', 'frequency', 'extent']"
   ]
  },
  {
   "cell_type": "code",
   "execution_count": 102,
   "metadata": {},
   "outputs": [],
   "source": [
    "AMRNonCoreDict = {}\n",
    "\n",
    "for amr_noncore in amr_noncores: \n",
    "    AMRNonCoreDict[amr_noncore] = {}\n",
    "    for pred in AMRPredicateDict: \n",
    "        if AMRPredicateDict[pred].ARG0!= None and amr_noncore in AMRPredicateDict[pred].ARG0.lower():\n",
    "            AMRNonCoreDict[amr_noncore][pred] = AMRPredicateDict[pred]\n",
    "        elif AMRPredicateDict[pred].ARG1!= None and amr_noncore in AMRPredicateDict[pred].ARG1.lower():\n",
    "            AMRNonCoreDict[amr_noncore][pred] = AMRPredicateDict[pred]\n",
    "        elif AMRPredicateDict[pred].ARG2!= None and amr_noncore in AMRPredicateDict[pred].ARG2.lower():\n",
    "            AMRNonCoreDict[amr_noncore][pred] = AMRPredicateDict[pred]\n",
    "        elif AMRPredicateDict[pred].ARG3!= None and amr_noncore in AMRPredicateDict[pred].ARG3.lower():\n",
    "            AMRNonCoreDict[amr_noncore][pred] = AMRPredicateDict[pred]\n",
    "        elif AMRPredicateDict[pred].ARG4!= None and amr_noncore in AMRPredicateDict[pred].ARG4.lower():\n",
    "            AMRNonCoreDict[amr_noncore][pred] = AMRPredicateDict[pred]\n",
    "        elif AMRPredicateDict[pred].ARG5!= None and amr_noncore in AMRPredicateDict[pred].ARG5.lower():\n",
    "            AMRNonCoreDict[amr_noncore][pred] = AMRPredicateDict[pred]\n",
    "        elif AMRPredicateDict[pred].ARG6!= None and amr_noncore in AMRPredicateDict[pred].ARG6.lower():\n",
    "            AMRNonCoreDict[amr_noncore][pred] = AMRPredicateDict[pred]"
   ]
  },
  {
   "cell_type": "code",
   "execution_count": 108,
   "metadata": {},
   "outputs": [
    {
     "data": {
      "text/plain": [
       "{'have-frequency-91': <__main__.AMRPredicate at 0x10f5a3e48>}"
      ]
     },
     "execution_count": 108,
     "metadata": {},
     "output_type": "execute_result"
    }
   ],
   "source": [
    "AMRNonCoreDict[\"frequency\"]"
   ]
  },
  {
   "cell_type": "code",
   "execution_count": 106,
   "metadata": {},
   "outputs": [
    {
     "name": "stdout",
     "output_type": "stream",
     "text": [
      "source 274\n",
      "destination 220\n",
      "path 147\n",
      "beneficiary 96\n",
      "accompanier 5\n",
      "topic 124\n",
      "duration 2\n",
      "instrument 703\n",
      "medium 30\n",
      "manner 77\n",
      "purpose 49\n",
      "cause 1314\n",
      "concession 1\n",
      "condition 17\n",
      "part 143\n",
      "subevent 5\n",
      "consist-of 0\n",
      "example 9\n",
      "direction 52\n",
      "frequency 1\n",
      "extent 28\n"
     ]
    }
   ],
   "source": [
    "for noncore in AMRNonCoreDict.keys(): \n",
    "    print(noncore, len(AMRNonCoreDict[noncore]))"
   ]
  },
  {
   "cell_type": "code",
   "execution_count": 91,
   "metadata": {},
   "outputs": [
    {
     "data": {
      "text/plain": [
       "<__main__.AMRPredicate at 0x11035b160>"
      ]
     },
     "execution_count": 91,
     "metadata": {},
     "output_type": "execute_result"
    }
   ],
   "source": [
    "AMRPredicateDict['abandon-01']."
   ]
  },
  {
   "cell_type": "code",
   "execution_count": 110,
   "metadata": {},
   "outputs": [
    {
     "data": {
      "text/plain": [
       "False"
      ]
     },
     "execution_count": 110,
     "metadata": {},
     "output_type": "execute_result"
    }
   ],
   "source": [
    "list = [1,2,3,4]\n",
    "not list[3]"
   ]
  },
  {
   "cell_type": "code",
   "execution_count": 111,
   "metadata": {},
   "outputs": [
    {
     "data": {
      "text/plain": [
       "<re.Match object; span=(0, 7), match='abandon'>"
      ]
     },
     "execution_count": 111,
     "metadata": {},
     "output_type": "execute_result"
    }
   ],
   "source": [
    "re.match(r\"[a-z]+\", \"abandon-01\")"
   ]
  },
  {
   "cell_type": "code",
   "execution_count": null,
   "metadata": {},
   "outputs": [],
   "source": []
  }
 ],
 "metadata": {
  "kernelspec": {
   "display_name": "Python 3",
   "language": "python",
   "name": "python3"
  },
  "language_info": {
   "codemirror_mode": {
    "name": "ipython",
    "version": 3
   },
   "file_extension": ".py",
   "mimetype": "text/x-python",
   "name": "python",
   "nbconvert_exporter": "python",
   "pygments_lexer": "ipython3",
   "version": "3.7.1"
  }
 },
 "nbformat": 4,
 "nbformat_minor": 2
}
